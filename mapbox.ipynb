{
 "cells": [
  {
   "cell_type": "code",
   "execution_count": null,
   "metadata": {},
   "outputs": [],
   "source": [
    "import pandas as pd\n",
    "import plotly.express as px\n",
    "import json\n",
    "from urllib.request import urlopen"
   ]
  },
  {
   "cell_type": "markdown",
   "metadata": {},
   "source": [
    "## NYC Squirrel Census 2018\n",
    "[Data Source](https://data.cityofnewyork.us/Environment/2018-Central-Park-Squirrel-Census-Squirrel-Data/vfnx-vebw/about_data)  \n",
    "[scatter_mapbox Documentation](https://plotly.github.io/plotly.py-docs/generated/plotly.express.scatter_mapbox.html)"
   ]
  },
  {
   "cell_type": "code",
   "execution_count": null,
   "metadata": {},
   "outputs": [],
   "source": [
    "# Squirrel Dataset\n",
    "nyc_squirrels = pd.read_csv(\"https://raw.githubusercontent.com/BaroqueObama/Fun-Datasets/main/2018_Central_Park_Squirrel_Census_-_Squirrel_Data.csv\")\n",
    "# Remove squirrel sightings without detailed descriptions\n",
    "nyc_squirrels = nyc_squirrels.dropna(subset=[\"Specific Location\"])\n",
    "nyc_squirrels = nyc_squirrels.dropna(subset=[\"Other Activities\"])\n",
    "\n",
    "# Make the mapbox plot (Documentation: https://plotly.github.io/plotly.py-docs/generated/plotly.express.scatter_mapbox.html)\n",
    "fig = px.scatter_mapbox(nyc_squirrels, \n",
    "                        lat=\"Y\", lon=\"X\", \n",
    "                        hover_name=\"Unique Squirrel ID\", hover_data=[\"Primary Fur Color\", \"Age\", \"Specific Location\", \"Other Activities\"], \n",
    "                        color_discrete_sequence=[\"fuchsia\"], title=\"Central Park Squirrels\")\n",
    "# Map style. Others include 'open-street-map', 'white-bg', 'carto-positron', 'carto-darkmatter', 'stamen- terrain', 'stamen-toner', 'stamen-watercolor'\n",
    "fig.update_layout(mapbox_style=\"carto-positron\")\n",
    "fig.update_layout(margin={\"r\":0,\"t\":0,\"l\":0,\"b\":0})\n",
    "# Sets center of the map in coordinates\n",
    "fig.update_mapboxes(center=dict(lat=40.7826, lon=-73.9656))\n",
    "# Sets bearing of the map to make central park horizontal.\n",
    "fig.update_mapboxes(bearing=28.912-90)\n",
    "# Sets zoom of the map. Bigger number, more zoom.\n",
    "fig.update_mapboxes(zoom=13)\n",
    "fig.show()"
   ]
  },
  {
   "cell_type": "markdown",
   "metadata": {},
   "source": [
    "## 2020 General Election results by precinct\n",
    "[Data Source](https://github.com/TheUpshot/presidential-precinct-map-2020)  \n",
    "[NYTimes Map](https://www.nytimes.com/interactive/2021/upshot/2020-election-map.html)  \n",
    "[choropleth_mapbox Documentation](https://plotly.github.io/plotly.py-docs/generated/plotly.express.choropleth.html)  "
   ]
  },
  {
   "cell_type": "code",
   "execution_count": null,
   "metadata": {},
   "outputs": [],
   "source": [
    "# GeoJSON data on precincts and election results\n",
    "# You can use \"bayarea.geojson\" for faster results instead.\n",
    "with open(\"cal.geojson\") as response:\n",
    "    precincts = json.load(response)\n",
    "df = pd.json_normalize(precincts['features'])\n",
    "display(df)"
   ]
  },
  {
   "cell_type": "code",
   "execution_count": null,
   "metadata": {},
   "outputs": [],
   "source": [
    "fig = px.choropleth_mapbox(df, geojson=precincts, \n",
    "                    locations=\"properties.GEOID\", \n",
    "                    featureidkey=\"properties.GEOID\",\n",
    "                    color=\"properties.pct_dem_lead\",\n",
    "                    hover_name=\"properties.pct_dem_lead\",\n",
    "                    hover_data={\"properties.votes_dem\": True, \"properties.votes_rep\": True, \"properties.votes_total\": True, \"properties.pct_dem_lead\": False, \"properties.GEOID\": False},\n",
    "                    opacity=0.6,\n",
    "                    color_continuous_scale=\"RdBu\",\n",
    "                    range_color=[-75,75]\n",
    "                   )\n",
    "fig.update_geos(fitbounds=\"locations\", visible=False)\n",
    "fig.update_traces(marker_line_width=0)\n",
    "fig.update_mapboxes(center=dict(lat=37.3347, lon=-122.0466))\n",
    "fig.update_layout(mapbox_style=\"carto-positron\")\n",
    "fig.update_layout(margin={\"r\":0,\"t\":0,\"l\":0,\"b\":0})\n",
    "fig.update_mapboxes(zoom=12)\n",
    "fig.show()"
   ]
  },
  {
   "cell_type": "markdown",
   "metadata": {},
   "source": [
    "## Activity 1: County Prison Admissions\n",
    "[Data Source](https://github.com/TheUpshot/prison-admissions/blob/master/county-prison-admissions.csv)  \n",
    "[NY Times Article](https://www.nytimes.com/2016/09/02/upshot/new-geography-of-prisons.html)  \n",
    "  \n",
    "![Sample NYTimes Map](images/sample_prison.png)  "
   ]
  },
  {
   "cell_type": "code",
   "execution_count": null,
   "metadata": {},
   "outputs": [],
   "source": [
    "# Prison Data\n",
    "df = pd.read_csv(\"county-prison.csv\", dtype={\"fips\": str})\n",
    "# Creates new column that fills 2014 NaN values with 2013 values\n",
    "df[\"admitsPerCapita\"] = df[\"admitsPer10k2014\"].fillna(df[\"admitsPer10k2013\"])\n",
    "\n",
    "# Contains GeoJSON data with polygon shapes for all US counties. \n",
    "with urlopen('https://raw.githubusercontent.com/plotly/datasets/master/geojson-counties-fips.json') as response:\n",
    "    counties = json.load(response)\n",
    "\n",
    "display(df)\n",
    "display(counties)"
   ]
  },
  {
   "cell_type": "code",
   "execution_count": null,
   "metadata": {},
   "outputs": [],
   "source": [
    "# Creates choropleth plot.\n",
    "# Documentation: https://plotly.github.io/plotly.py-docs/generated/plotly.express.choropleth.html\n",
    "fig = px.choropleth_mapbox(df, # Data frame with the prison data\n",
    "                           geojson=, # TODO: assing the GeoJSON data (which contain polygon shapes for each US county)\n",
    "                           locations=, # TODO: column name from df with location IDs geojson will reference. We will be using fips \n",
    "                           featureidkey=, # TODO: path to fips field in geojson which will identify which polygon to use\n",
    "                           color=, # TODO: which column value in df to adjust the color of the county by. You can choose freely but recommend \"admitsPerCapita\"\n",
    "                           hover_name=, # TODO: which column value in df to set as the name\n",
    "                           hover_data=, # TODwhich column values in df to display when hovering over county\n",
    "                           opacity=, # TODO: Set opacity of counties between 0 and 1\n",
    "                           color_continuous_scale=, # TODO: Set your color scheme. You can find them here: https://plotly.com/python/builtin-colorscales/#:~:text=Join%20now.-,Built%2DIn%20Sequential%20Color%20scales,-A%20collection%20of\n",
    "                           range_color= # TODO: Can set color range if you want to.\n",
    "                   )\n",
    "fig.update_geos(fitbounds=\"locations\", visible=False)\n",
    "fig.update_mapboxes(center=dict(lat=37.3347, lon=-122.0466)) # TODO: Set the starting center coordinates of your map. \n",
    "fig.update_traces(marker_line_width=0) # TODO: Can adjust line width if you want.\n",
    "fig.update_layout(mapbox_style=\"carto-positron\") # TODO: Select your mapbox style: 'open-street-map', 'white-bg', 'carto-positron', 'carto-darkmatter', 'stamen- terrain', 'stamen-toner', 'stamen-watercolor'\n",
    "fig.update_layout(margin={\"r\":0,\"t\":0,\"l\":0,\"b\":0})\n",
    "fig.update_mapboxes(zoom=12) # TODO: Set your zoom\n",
    "fig.show()"
   ]
  },
  {
   "cell_type": "markdown",
   "metadata": {},
   "source": [
    "<details>\n",
    "  <summary><h2>Solution/Potential Method (Click to Expand)</h2></summary>\n",
    "\n",
    "```python\n",
    "# Creates choropleth plot.\n",
    "# Documentation: https://plotly.github.io/plotly.py-docs/generated/plotly.express.choropleth.html\n",
    "fig = px.choropleth_mapbox(df, # Data frame with the prison data\n",
    "                           geojson=counties, # TODO: assing the GeoJSON data (which contain polygon shapes for each US county)\n",
    "                           locations=\"fips\", # TODO: column name from df with location IDs geojson will reference. We will be using fips \n",
    "                           featureidkey=\"id\", # TODO: path to fips field in geojson which will identify which polygon to use\n",
    "                           color=\"admitsPerCapita\", # TODO: which column value in df to adjust the color of the county by. You can choose freely but recommend \"admitsPerCapita\"\n",
    "                           hover_name=\"county\", # TODO: which column value in df to set as the name\n",
    "                           hover_data=[\"admitsPer10k2014\"], # TODO: which column values in df to display when hovering over county\n",
    "                           opacity=0.8, # TODO: Set opacity of counties between 0 and 1\n",
    "                           color_continuous_scale=\"deep\", # TODO: Set your color scheme. You can find them here: https://plotly.com/python/builtin-colorscales/#:~:text=Join%20now.-,Built%2DIn%20Sequential%20Color%20scales,-A%20collection%20of\n",
    "                           range_color=[0,100] # TODO: Can set color range if you want to.\n",
    "                   )\n",
    "fig.update_geos(fitbounds=\"locations\", visible=False)\n",
    "fig.update_traces(marker_line_width=0) # TODO: Can adjust line width if you want.\n",
    "fig.update_mapboxes(center=dict(lat=39.8283, lon=-98.5795)) # TODO: Set the starting center coordinates of your map. \n",
    "fig.update_layout(mapbox_style=\"carto-positron\") # TODO: Select your mapbox style: 'open-street-map', 'white-bg', 'carto-positron', 'carto-darkmatter', 'stamen- terrain', 'stamen-toner', 'stamen-watercolor'\n",
    "fig.update_layout(margin={\"r\":0,\"t\":0,\"l\":0,\"b\":0})\n",
    "fig.update_mapboxes(zoom=3) # TODO: Set your zoom\n",
    "fig.show()\n",
    "```\n",
    "</details>"
   ]
  },
  {
   "cell_type": "markdown",
   "metadata": {},
   "source": [
    "## Activity 2: Use your Google timeline location data.\n",
    "Go to [takeout](https://takeout.google.com/) for your google account and export your Location History (Timeline) data in JSON format (if you have location history turned on).  \n",
    "You can then plot your location history using scatter_mapbox"
   ]
  },
  {
   "cell_type": "code",
   "execution_count": null,
   "metadata": {},
   "outputs": [],
   "source": []
  }
 ],
 "metadata": {
  "kernelspec": {
   "display_name": "Python 3",
   "language": "python",
   "name": "python3"
  },
  "language_info": {
   "codemirror_mode": {
    "name": "ipython",
    "version": 3
   },
   "file_extension": ".py",
   "mimetype": "text/x-python",
   "name": "python",
   "nbconvert_exporter": "python",
   "pygments_lexer": "ipython3",
   "version": "3.9.15"
  }
 },
 "nbformat": 4,
 "nbformat_minor": 2
}
